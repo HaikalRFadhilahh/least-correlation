{
 "cells": [
  {
   "attachments": {},
   "cell_type": "markdown",
   "metadata": {},
   "source": [
    "## Import Library For Pearson Least Correlation"
   ]
  },
  {
   "cell_type": "code",
   "execution_count": 29,
   "metadata": {},
   "outputs": [],
   "source": [
    "import pandas as pd\n",
    "from matplotlib import pyplot as plt\n",
    "import math\n",
    "from spicy import stats"
   ]
  },
  {
   "cell_type": "code",
   "execution_count": 15,
   "metadata": {},
   "outputs": [
    {
     "data": {
      "text/html": [
       "<div>\n",
       "<style scoped>\n",
       "    .dataframe tbody tr th:only-of-type {\n",
       "        vertical-align: middle;\n",
       "    }\n",
       "\n",
       "    .dataframe tbody tr th {\n",
       "        vertical-align: top;\n",
       "    }\n",
       "\n",
       "    .dataframe thead th {\n",
       "        text-align: right;\n",
       "    }\n",
       "</style>\n",
       "<table border=\"1\" class=\"dataframe\">\n",
       "  <thead>\n",
       "    <tr style=\"text-align: right;\">\n",
       "      <th></th>\n",
       "      <th>x</th>\n",
       "      <th>y</th>\n",
       "    </tr>\n",
       "  </thead>\n",
       "  <tbody>\n",
       "    <tr>\n",
       "      <th>0</th>\n",
       "      <td>0.50</td>\n",
       "      <td>5.0</td>\n",
       "    </tr>\n",
       "    <tr>\n",
       "      <th>1</th>\n",
       "      <td>1.00</td>\n",
       "      <td>10.0</td>\n",
       "    </tr>\n",
       "    <tr>\n",
       "      <th>2</th>\n",
       "      <td>1.75</td>\n",
       "      <td>12.5</td>\n",
       "    </tr>\n",
       "    <tr>\n",
       "      <th>3</th>\n",
       "      <td>2.50</td>\n",
       "      <td>20.0</td>\n",
       "    </tr>\n",
       "    <tr>\n",
       "      <th>4</th>\n",
       "      <td>3.25</td>\n",
       "      <td>30.0</td>\n",
       "    </tr>\n",
       "    <tr>\n",
       "      <th>5</th>\n",
       "      <td>4.00</td>\n",
       "      <td>35.0</td>\n",
       "    </tr>\n",
       "    <tr>\n",
       "      <th>6</th>\n",
       "      <td>5.50</td>\n",
       "      <td>40.0</td>\n",
       "    </tr>\n",
       "    <tr>\n",
       "      <th>7</th>\n",
       "      <td>5.75</td>\n",
       "      <td>42.5</td>\n",
       "    </tr>\n",
       "    <tr>\n",
       "      <th>8</th>\n",
       "      <td>6.50</td>\n",
       "      <td>50.0</td>\n",
       "    </tr>\n",
       "  </tbody>\n",
       "</table>\n",
       "</div>"
      ],
      "text/plain": [
       "      x     y\n",
       "0  0.50   5.0\n",
       "1  1.00  10.0\n",
       "2  1.75  12.5\n",
       "3  2.50  20.0\n",
       "4  3.25  30.0\n",
       "5  4.00  35.0\n",
       "6  5.50  40.0\n",
       "7  5.75  42.5\n",
       "8  6.50  50.0"
      ]
     },
     "execution_count": 15,
     "metadata": {},
     "output_type": "execute_result"
    }
   ],
   "source": [
    "x = [0.50,1,1.75,2.5,3.25,4,5.5,5.75,6.50];\n",
    "y = [5,10,12.5,20,30,35,40,42.5,50];\n",
    "df = pd.DataFrame({'x' : x,'y' : y})\n",
    "df"
   ]
  },
  {
   "attachments": {},
   "cell_type": "markdown",
   "metadata": {},
   "source": [
    "## Mencari Rata-Rata X Dan Y"
   ]
  },
  {
   "cell_type": "code",
   "execution_count": 16,
   "metadata": {},
   "outputs": [],
   "source": [
    "meanX = df.x.mean();\n",
    "meanY = df.y.mean();"
   ]
  },
  {
   "attachments": {},
   "cell_type": "markdown",
   "metadata": {},
   "source": [
    "## Menambah Kolom (x',x',x'^2,y'^2)"
   ]
  },
  {
   "cell_type": "code",
   "execution_count": 17,
   "metadata": {},
   "outputs": [
    {
     "data": {
      "text/html": [
       "<div>\n",
       "<style scoped>\n",
       "    .dataframe tbody tr th:only-of-type {\n",
       "        vertical-align: middle;\n",
       "    }\n",
       "\n",
       "    .dataframe tbody tr th {\n",
       "        vertical-align: top;\n",
       "    }\n",
       "\n",
       "    .dataframe thead th {\n",
       "        text-align: right;\n",
       "    }\n",
       "</style>\n",
       "<table border=\"1\" class=\"dataframe\">\n",
       "  <thead>\n",
       "    <tr style=\"text-align: right;\">\n",
       "      <th></th>\n",
       "      <th>x</th>\n",
       "      <th>y</th>\n",
       "      <th>x'</th>\n",
       "      <th>y'</th>\n",
       "      <th>x'^2</th>\n",
       "      <th>y'^2</th>\n",
       "      <th>(x') * (y')</th>\n",
       "    </tr>\n",
       "  </thead>\n",
       "  <tbody>\n",
       "    <tr>\n",
       "      <th>0</th>\n",
       "      <td>0.50</td>\n",
       "      <td>5.0</td>\n",
       "      <td>-2.916667</td>\n",
       "      <td>-22.222222</td>\n",
       "      <td>8.506944</td>\n",
       "      <td>493.827160</td>\n",
       "      <td>64.814815</td>\n",
       "    </tr>\n",
       "    <tr>\n",
       "      <th>1</th>\n",
       "      <td>1.00</td>\n",
       "      <td>10.0</td>\n",
       "      <td>-2.416667</td>\n",
       "      <td>-17.222222</td>\n",
       "      <td>5.840278</td>\n",
       "      <td>296.604938</td>\n",
       "      <td>41.620370</td>\n",
       "    </tr>\n",
       "    <tr>\n",
       "      <th>2</th>\n",
       "      <td>1.75</td>\n",
       "      <td>12.5</td>\n",
       "      <td>-1.666667</td>\n",
       "      <td>-14.722222</td>\n",
       "      <td>2.777778</td>\n",
       "      <td>216.743827</td>\n",
       "      <td>24.537037</td>\n",
       "    </tr>\n",
       "    <tr>\n",
       "      <th>3</th>\n",
       "      <td>2.50</td>\n",
       "      <td>20.0</td>\n",
       "      <td>-0.916667</td>\n",
       "      <td>-7.222222</td>\n",
       "      <td>0.840278</td>\n",
       "      <td>52.160494</td>\n",
       "      <td>6.620370</td>\n",
       "    </tr>\n",
       "    <tr>\n",
       "      <th>4</th>\n",
       "      <td>3.25</td>\n",
       "      <td>30.0</td>\n",
       "      <td>-0.166667</td>\n",
       "      <td>2.777778</td>\n",
       "      <td>0.027778</td>\n",
       "      <td>7.716049</td>\n",
       "      <td>-0.462963</td>\n",
       "    </tr>\n",
       "    <tr>\n",
       "      <th>5</th>\n",
       "      <td>4.00</td>\n",
       "      <td>35.0</td>\n",
       "      <td>0.583333</td>\n",
       "      <td>7.777778</td>\n",
       "      <td>0.340278</td>\n",
       "      <td>60.493827</td>\n",
       "      <td>4.537037</td>\n",
       "    </tr>\n",
       "    <tr>\n",
       "      <th>6</th>\n",
       "      <td>5.50</td>\n",
       "      <td>40.0</td>\n",
       "      <td>2.083333</td>\n",
       "      <td>12.777778</td>\n",
       "      <td>4.340278</td>\n",
       "      <td>163.271605</td>\n",
       "      <td>26.620370</td>\n",
       "    </tr>\n",
       "    <tr>\n",
       "      <th>7</th>\n",
       "      <td>5.75</td>\n",
       "      <td>42.5</td>\n",
       "      <td>2.333333</td>\n",
       "      <td>15.277778</td>\n",
       "      <td>5.444444</td>\n",
       "      <td>233.410494</td>\n",
       "      <td>35.648148</td>\n",
       "    </tr>\n",
       "    <tr>\n",
       "      <th>8</th>\n",
       "      <td>6.50</td>\n",
       "      <td>50.0</td>\n",
       "      <td>3.083333</td>\n",
       "      <td>22.777778</td>\n",
       "      <td>9.506944</td>\n",
       "      <td>518.827160</td>\n",
       "      <td>70.231481</td>\n",
       "    </tr>\n",
       "  </tbody>\n",
       "</table>\n",
       "</div>"
      ],
      "text/plain": [
       "      x     y        x'         y'      x'^2        y'^2  (x') * (y')\n",
       "0  0.50   5.0 -2.916667 -22.222222  8.506944  493.827160    64.814815\n",
       "1  1.00  10.0 -2.416667 -17.222222  5.840278  296.604938    41.620370\n",
       "2  1.75  12.5 -1.666667 -14.722222  2.777778  216.743827    24.537037\n",
       "3  2.50  20.0 -0.916667  -7.222222  0.840278   52.160494     6.620370\n",
       "4  3.25  30.0 -0.166667   2.777778  0.027778    7.716049    -0.462963\n",
       "5  4.00  35.0  0.583333   7.777778  0.340278   60.493827     4.537037\n",
       "6  5.50  40.0  2.083333  12.777778  4.340278  163.271605    26.620370\n",
       "7  5.75  42.5  2.333333  15.277778  5.444444  233.410494    35.648148\n",
       "8  6.50  50.0  3.083333  22.777778  9.506944  518.827160    70.231481"
      ]
     },
     "execution_count": 17,
     "metadata": {},
     "output_type": "execute_result"
    }
   ],
   "source": [
    "df[\"x'\"] = df['x'] - meanX;\n",
    "df[\"y'\"] = df['y'] - meanY;\n",
    "df[\"x'^2\"] = df[\"x'\"] * df[\"x'\"];\n",
    "df[\"y'^2\"] = df[\"y'\"] * df[\"y'\"];\n",
    "df[\"(x') * (y')\"] = df[\"x'\"] * df[\"y'\"]\n",
    "df"
   ]
  },
  {
   "attachments": {},
   "cell_type": "markdown",
   "metadata": {},
   "source": [
    "## Mencari Sigma Kolom (x',y',x'^2,y'^2,(x') * (y'))"
   ]
  },
  {
   "cell_type": "code",
   "execution_count": 18,
   "metadata": {},
   "outputs": [],
   "source": [
    "sigmaXAksen = sum(df[\"x'\"]);\n",
    "sigmaYAksen = sum(df[\"y'\"]);\n",
    "sigmaXAksenKuadrat = sum(df[\"x'^2\"]);\n",
    "sigmaYAksenKuadrat = sum(df[\"y'^2\"]);\n",
    "sigmaXxY = sum(df[\"(x') * (y')\"]);"
   ]
  },
  {
   "attachments": {},
   "cell_type": "markdown",
   "metadata": {},
   "source": [
    "## Menghitung Pearson Least Correlation"
   ]
  },
  {
   "cell_type": "code",
   "execution_count": 20,
   "metadata": {},
   "outputs": [
    {
     "name": "stdout",
     "output_type": "stream",
     "text": [
      "Least Correlation :  0.9888634146958679\n"
     ]
    }
   ],
   "source": [
    "leastCorrelation = sigmaXxY/math.sqrt(sigmaXAksenKuadrat * sigmaYAksenKuadrat);\n",
    "print (\"Least Correlation : \",leastCorrelation)"
   ]
  },
  {
   "attachments": {},
   "cell_type": "markdown",
   "metadata": {},
   "source": [
    "## Membuat Sebuah Scatter Plot"
   ]
  },
  {
   "cell_type": "code",
   "execution_count": 32,
   "metadata": {},
   "outputs": [
    {
     "data": {
      "image/png": "[encoded data removed]",
      "text/plain": [
       "<Figure size 640x480 with 1 Axes>"
      ]
     },
     "metadata": {},
     "output_type": "display_data"
    }
   ],
   "source": [
    "slope, intercept, r, p, std_err = stats.linregress(x, y)\n",
    "\n",
    "def myfunc(x):\n",
    "  return slope * x + intercept\n",
    "\n",
    "mymodel = list(map(myfunc, x))\n",
    "plt.scatter(x,y)\n",
    "plt.xlabel(\"Biaya Iklan\")\n",
    "plt.ylabel(\"Penjualan\") \n",
    "plt.plot(x,mymodel)\n",
    "plt.show()"
   ]
  }
 ],
 "metadata": {
  "kernelspec": {
   "display_name": "BigData",
   "language": "python",
   "name": "python3"
  },
  "language_info": {
   "codemirror_mode": {
    "name": "ipython",
    "version": 3
   },
   "file_extension": ".py",
   "mimetype": "text/x-python",
   "name": "python",
   "nbconvert_exporter": "python",
   "pygments_lexer": "ipython3",
   "version": "3.10.10"
  },
  "orig_nbformat": 4
 },
 "nbformat": 4,
 "nbformat_minor": 2
}
